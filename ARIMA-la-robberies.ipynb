{
 "cells": [
  {
   "cell_type": "code",
   "execution_count": 59,
   "metadata": {},
   "outputs": [],
   "source": [
    "import pandas as pd\n",
    "import numpy as np\n",
    "import datetime\n",
    "from datetime import datetime\n",
    "import matplotlib.pyplot as plt\n",
    "from pmdarima.arima import auto_arima\n"
   ]
  },
  {
   "cell_type": "code",
   "execution_count": 60,
   "metadata": {},
   "outputs": [],
   "source": [
    "data = pd.read_csv('report.csv')"
   ]
  },
  {
   "cell_type": "code",
   "execution_count": 61,
   "metadata": {},
   "outputs": [
    {
     "data": {
      "text/html": [
       "<div>\n",
       "<style scoped>\n",
       "    .dataframe tbody tr th:only-of-type {\n",
       "        vertical-align: middle;\n",
       "    }\n",
       "\n",
       "    .dataframe tbody tr th {\n",
       "        vertical-align: top;\n",
       "    }\n",
       "\n",
       "    .dataframe thead th {\n",
       "        text-align: right;\n",
       "    }\n",
       "</style>\n",
       "<table border=\"1\" class=\"dataframe\">\n",
       "  <thead>\n",
       "    <tr style=\"text-align: right;\">\n",
       "      <th></th>\n",
       "      <th>report_year</th>\n",
       "      <th>agency_code</th>\n",
       "      <th>agency_jurisdiction</th>\n",
       "      <th>population</th>\n",
       "      <th>violent_crimes</th>\n",
       "      <th>homicides</th>\n",
       "      <th>rapes</th>\n",
       "      <th>assaults</th>\n",
       "      <th>robberies</th>\n",
       "      <th>months_reported</th>\n",
       "      <th>crimes_percapita</th>\n",
       "      <th>homicides_percapita</th>\n",
       "      <th>rapes_percapita</th>\n",
       "      <th>assaults_percapita</th>\n",
       "      <th>robberies_percapita</th>\n",
       "    </tr>\n",
       "  </thead>\n",
       "  <tbody>\n",
       "    <tr>\n",
       "      <th>0</th>\n",
       "      <td>1975</td>\n",
       "      <td>NM00101</td>\n",
       "      <td>Albuquerque, NM</td>\n",
       "      <td>286238.0</td>\n",
       "      <td>2383.0</td>\n",
       "      <td>30.0</td>\n",
       "      <td>181.0</td>\n",
       "      <td>1353.0</td>\n",
       "      <td>819.0</td>\n",
       "      <td>12.0</td>\n",
       "      <td>832.52</td>\n",
       "      <td>10.48</td>\n",
       "      <td>63.23</td>\n",
       "      <td>472.68</td>\n",
       "      <td>286.13</td>\n",
       "    </tr>\n",
       "    <tr>\n",
       "      <th>1</th>\n",
       "      <td>1975</td>\n",
       "      <td>TX22001</td>\n",
       "      <td>Arlington, TX</td>\n",
       "      <td>112478.0</td>\n",
       "      <td>278.0</td>\n",
       "      <td>5.0</td>\n",
       "      <td>28.0</td>\n",
       "      <td>132.0</td>\n",
       "      <td>113.0</td>\n",
       "      <td>12.0</td>\n",
       "      <td>247.16</td>\n",
       "      <td>4.45</td>\n",
       "      <td>24.89</td>\n",
       "      <td>117.36</td>\n",
       "      <td>100.46</td>\n",
       "    </tr>\n",
       "    <tr>\n",
       "      <th>2</th>\n",
       "      <td>1975</td>\n",
       "      <td>GAAPD00</td>\n",
       "      <td>Atlanta, GA</td>\n",
       "      <td>490584.0</td>\n",
       "      <td>8033.0</td>\n",
       "      <td>185.0</td>\n",
       "      <td>443.0</td>\n",
       "      <td>3518.0</td>\n",
       "      <td>3887.0</td>\n",
       "      <td>12.0</td>\n",
       "      <td>1637.44</td>\n",
       "      <td>37.71</td>\n",
       "      <td>90.30</td>\n",
       "      <td>717.10</td>\n",
       "      <td>792.32</td>\n",
       "    </tr>\n",
       "    <tr>\n",
       "      <th>3</th>\n",
       "      <td>1975</td>\n",
       "      <td>CO00101</td>\n",
       "      <td>Aurora, CO</td>\n",
       "      <td>116656.0</td>\n",
       "      <td>611.0</td>\n",
       "      <td>7.0</td>\n",
       "      <td>44.0</td>\n",
       "      <td>389.0</td>\n",
       "      <td>171.0</td>\n",
       "      <td>12.0</td>\n",
       "      <td>523.76</td>\n",
       "      <td>6.00</td>\n",
       "      <td>37.72</td>\n",
       "      <td>333.46</td>\n",
       "      <td>146.58</td>\n",
       "    </tr>\n",
       "    <tr>\n",
       "      <th>4</th>\n",
       "      <td>1975</td>\n",
       "      <td>TX22701</td>\n",
       "      <td>Austin, TX</td>\n",
       "      <td>300400.0</td>\n",
       "      <td>1215.0</td>\n",
       "      <td>33.0</td>\n",
       "      <td>190.0</td>\n",
       "      <td>463.0</td>\n",
       "      <td>529.0</td>\n",
       "      <td>12.0</td>\n",
       "      <td>404.46</td>\n",
       "      <td>10.99</td>\n",
       "      <td>63.25</td>\n",
       "      <td>154.13</td>\n",
       "      <td>176.10</td>\n",
       "    </tr>\n",
       "  </tbody>\n",
       "</table>\n",
       "</div>"
      ],
      "text/plain": [
       "   report_year agency_code agency_jurisdiction  population  violent_crimes  \\\n",
       "0         1975     NM00101     Albuquerque, NM    286238.0          2383.0   \n",
       "1         1975     TX22001       Arlington, TX    112478.0           278.0   \n",
       "2         1975     GAAPD00         Atlanta, GA    490584.0          8033.0   \n",
       "3         1975     CO00101          Aurora, CO    116656.0           611.0   \n",
       "4         1975     TX22701          Austin, TX    300400.0          1215.0   \n",
       "\n",
       "   homicides  rapes  assaults  robberies  months_reported  crimes_percapita  \\\n",
       "0       30.0  181.0    1353.0      819.0             12.0            832.52   \n",
       "1        5.0   28.0     132.0      113.0             12.0            247.16   \n",
       "2      185.0  443.0    3518.0     3887.0             12.0           1637.44   \n",
       "3        7.0   44.0     389.0      171.0             12.0            523.76   \n",
       "4       33.0  190.0     463.0      529.0             12.0            404.46   \n",
       "\n",
       "   homicides_percapita  rapes_percapita  assaults_percapita  \\\n",
       "0                10.48            63.23              472.68   \n",
       "1                 4.45            24.89              117.36   \n",
       "2                37.71            90.30              717.10   \n",
       "3                 6.00            37.72              333.46   \n",
       "4                10.99            63.25              154.13   \n",
       "\n",
       "   robberies_percapita  \n",
       "0               286.13  \n",
       "1               100.46  \n",
       "2               792.32  \n",
       "3               146.58  \n",
       "4               176.10  "
      ]
     },
     "execution_count": 61,
     "metadata": {},
     "output_type": "execute_result"
    }
   ],
   "source": [
    "data.head()"
   ]
  },
  {
   "cell_type": "code",
   "execution_count": 62,
   "metadata": {},
   "outputs": [
    {
     "data": {
      "text/plain": [
       "(2829, 15)"
      ]
     },
     "execution_count": 62,
     "metadata": {},
     "output_type": "execute_result"
    }
   ],
   "source": [
    "data.shape"
   ]
  },
  {
   "cell_type": "code",
   "execution_count": 63,
   "metadata": {},
   "outputs": [
    {
     "data": {
      "text/plain": [
       "41"
      ]
     },
     "execution_count": 63,
     "metadata": {},
     "output_type": "execute_result"
    }
   ],
   "source": [
    "len(data['report_year'].unique())"
   ]
  },
  {
   "cell_type": "code",
   "execution_count": 64,
   "metadata": {},
   "outputs": [
    {
     "data": {
      "text/html": [
       "<div>\n",
       "<style scoped>\n",
       "    .dataframe tbody tr th:only-of-type {\n",
       "        vertical-align: middle;\n",
       "    }\n",
       "\n",
       "    .dataframe tbody tr th {\n",
       "        vertical-align: top;\n",
       "    }\n",
       "\n",
       "    .dataframe thead th {\n",
       "        text-align: right;\n",
       "    }\n",
       "</style>\n",
       "<table border=\"1\" class=\"dataframe\">\n",
       "  <thead>\n",
       "    <tr style=\"text-align: right;\">\n",
       "      <th></th>\n",
       "      <th>report_year</th>\n",
       "      <th>agency_code</th>\n",
       "      <th>agency_jurisdiction</th>\n",
       "      <th>population</th>\n",
       "      <th>violent_crimes</th>\n",
       "      <th>homicides</th>\n",
       "      <th>rapes</th>\n",
       "      <th>assaults</th>\n",
       "      <th>robberies</th>\n",
       "      <th>months_reported</th>\n",
       "      <th>crimes_percapita</th>\n",
       "      <th>homicides_percapita</th>\n",
       "      <th>rapes_percapita</th>\n",
       "      <th>assaults_percapita</th>\n",
       "      <th>robberies_percapita</th>\n",
       "    </tr>\n",
       "  </thead>\n",
       "  <tbody>\n",
       "    <tr>\n",
       "      <th>0</th>\n",
       "      <td>1975</td>\n",
       "      <td>NM00101</td>\n",
       "      <td>Albuquerque, NM</td>\n",
       "      <td>286238.0</td>\n",
       "      <td>2383.0</td>\n",
       "      <td>30.0</td>\n",
       "      <td>181.0</td>\n",
       "      <td>1353.0</td>\n",
       "      <td>819.0</td>\n",
       "      <td>12.0</td>\n",
       "      <td>832.52</td>\n",
       "      <td>10.48</td>\n",
       "      <td>63.23</td>\n",
       "      <td>472.68</td>\n",
       "      <td>286.13</td>\n",
       "    </tr>\n",
       "    <tr>\n",
       "      <th>1</th>\n",
       "      <td>1975</td>\n",
       "      <td>TX22001</td>\n",
       "      <td>Arlington, TX</td>\n",
       "      <td>112478.0</td>\n",
       "      <td>278.0</td>\n",
       "      <td>5.0</td>\n",
       "      <td>28.0</td>\n",
       "      <td>132.0</td>\n",
       "      <td>113.0</td>\n",
       "      <td>12.0</td>\n",
       "      <td>247.16</td>\n",
       "      <td>4.45</td>\n",
       "      <td>24.89</td>\n",
       "      <td>117.36</td>\n",
       "      <td>100.46</td>\n",
       "    </tr>\n",
       "    <tr>\n",
       "      <th>2</th>\n",
       "      <td>1975</td>\n",
       "      <td>GAAPD00</td>\n",
       "      <td>Atlanta, GA</td>\n",
       "      <td>490584.0</td>\n",
       "      <td>8033.0</td>\n",
       "      <td>185.0</td>\n",
       "      <td>443.0</td>\n",
       "      <td>3518.0</td>\n",
       "      <td>3887.0</td>\n",
       "      <td>12.0</td>\n",
       "      <td>1637.44</td>\n",
       "      <td>37.71</td>\n",
       "      <td>90.30</td>\n",
       "      <td>717.10</td>\n",
       "      <td>792.32</td>\n",
       "    </tr>\n",
       "    <tr>\n",
       "      <th>3</th>\n",
       "      <td>1975</td>\n",
       "      <td>CO00101</td>\n",
       "      <td>Aurora, CO</td>\n",
       "      <td>116656.0</td>\n",
       "      <td>611.0</td>\n",
       "      <td>7.0</td>\n",
       "      <td>44.0</td>\n",
       "      <td>389.0</td>\n",
       "      <td>171.0</td>\n",
       "      <td>12.0</td>\n",
       "      <td>523.76</td>\n",
       "      <td>6.00</td>\n",
       "      <td>37.72</td>\n",
       "      <td>333.46</td>\n",
       "      <td>146.58</td>\n",
       "    </tr>\n",
       "    <tr>\n",
       "      <th>4</th>\n",
       "      <td>1975</td>\n",
       "      <td>TX22701</td>\n",
       "      <td>Austin, TX</td>\n",
       "      <td>300400.0</td>\n",
       "      <td>1215.0</td>\n",
       "      <td>33.0</td>\n",
       "      <td>190.0</td>\n",
       "      <td>463.0</td>\n",
       "      <td>529.0</td>\n",
       "      <td>12.0</td>\n",
       "      <td>404.46</td>\n",
       "      <td>10.99</td>\n",
       "      <td>63.25</td>\n",
       "      <td>154.13</td>\n",
       "      <td>176.10</td>\n",
       "    </tr>\n",
       "    <tr>\n",
       "      <th>...</th>\n",
       "      <td>...</td>\n",
       "      <td>...</td>\n",
       "      <td>...</td>\n",
       "      <td>...</td>\n",
       "      <td>...</td>\n",
       "      <td>...</td>\n",
       "      <td>...</td>\n",
       "      <td>...</td>\n",
       "      <td>...</td>\n",
       "      <td>...</td>\n",
       "      <td>...</td>\n",
       "      <td>...</td>\n",
       "      <td>...</td>\n",
       "      <td>...</td>\n",
       "      <td>...</td>\n",
       "    </tr>\n",
       "    <tr>\n",
       "      <th>2824</th>\n",
       "      <td>2015</td>\n",
       "      <td>OK07205</td>\n",
       "      <td>Tulsa, OK</td>\n",
       "      <td>401520.0</td>\n",
       "      <td>3628.0</td>\n",
       "      <td>55.0</td>\n",
       "      <td>365.0</td>\n",
       "      <td>2354.0</td>\n",
       "      <td>854.0</td>\n",
       "      <td>NaN</td>\n",
       "      <td>903.57</td>\n",
       "      <td>13.70</td>\n",
       "      <td>90.90</td>\n",
       "      <td>586.27</td>\n",
       "      <td>212.69</td>\n",
       "    </tr>\n",
       "    <tr>\n",
       "      <th>2825</th>\n",
       "      <td>2015</td>\n",
       "      <td>VA12800</td>\n",
       "      <td>Virginia Beach, VA</td>\n",
       "      <td>452797.0</td>\n",
       "      <td>626.0</td>\n",
       "      <td>19.0</td>\n",
       "      <td>103.0</td>\n",
       "      <td>234.0</td>\n",
       "      <td>270.0</td>\n",
       "      <td>NaN</td>\n",
       "      <td>138.25</td>\n",
       "      <td>4.20</td>\n",
       "      <td>22.75</td>\n",
       "      <td>51.68</td>\n",
       "      <td>59.63</td>\n",
       "    </tr>\n",
       "    <tr>\n",
       "      <th>2826</th>\n",
       "      <td>2015</td>\n",
       "      <td>DCMPD00</td>\n",
       "      <td>Washington, DC</td>\n",
       "      <td>672228.0</td>\n",
       "      <td>8084.0</td>\n",
       "      <td>162.0</td>\n",
       "      <td>494.0</td>\n",
       "      <td>4024.0</td>\n",
       "      <td>3404.0</td>\n",
       "      <td>NaN</td>\n",
       "      <td>1202.57</td>\n",
       "      <td>24.10</td>\n",
       "      <td>73.49</td>\n",
       "      <td>598.61</td>\n",
       "      <td>506.38</td>\n",
       "    </tr>\n",
       "    <tr>\n",
       "      <th>2827</th>\n",
       "      <td>2015</td>\n",
       "      <td>KS08703</td>\n",
       "      <td>Wichita, KS</td>\n",
       "      <td>389824.0</td>\n",
       "      <td>3839.0</td>\n",
       "      <td>27.0</td>\n",
       "      <td>349.0</td>\n",
       "      <td>2730.0</td>\n",
       "      <td>733.0</td>\n",
       "      <td>NaN</td>\n",
       "      <td>984.80</td>\n",
       "      <td>6.93</td>\n",
       "      <td>89.53</td>\n",
       "      <td>700.32</td>\n",
       "      <td>188.03</td>\n",
       "    </tr>\n",
       "    <tr>\n",
       "      <th>2828</th>\n",
       "      <td>2015</td>\n",
       "      <td>NaN</td>\n",
       "      <td>United States</td>\n",
       "      <td>NaN</td>\n",
       "      <td>1197704.0</td>\n",
       "      <td>15696.0</td>\n",
       "      <td>NaN</td>\n",
       "      <td>NaN</td>\n",
       "      <td>NaN</td>\n",
       "      <td>NaN</td>\n",
       "      <td>372.60</td>\n",
       "      <td>4.90</td>\n",
       "      <td>NaN</td>\n",
       "      <td>NaN</td>\n",
       "      <td>NaN</td>\n",
       "    </tr>\n",
       "  </tbody>\n",
       "</table>\n",
       "<p>2829 rows × 15 columns</p>\n",
       "</div>"
      ],
      "text/plain": [
       "      report_year agency_code agency_jurisdiction  population  violent_crimes  \\\n",
       "0            1975     NM00101     Albuquerque, NM    286238.0          2383.0   \n",
       "1            1975     TX22001       Arlington, TX    112478.0           278.0   \n",
       "2            1975     GAAPD00         Atlanta, GA    490584.0          8033.0   \n",
       "3            1975     CO00101          Aurora, CO    116656.0           611.0   \n",
       "4            1975     TX22701          Austin, TX    300400.0          1215.0   \n",
       "...           ...         ...                 ...         ...             ...   \n",
       "2824         2015     OK07205           Tulsa, OK    401520.0          3628.0   \n",
       "2825         2015     VA12800  Virginia Beach, VA    452797.0           626.0   \n",
       "2826         2015     DCMPD00      Washington, DC    672228.0          8084.0   \n",
       "2827         2015     KS08703         Wichita, KS    389824.0          3839.0   \n",
       "2828         2015         NaN       United States         NaN       1197704.0   \n",
       "\n",
       "      homicides  rapes  assaults  robberies  months_reported  \\\n",
       "0          30.0  181.0    1353.0      819.0             12.0   \n",
       "1           5.0   28.0     132.0      113.0             12.0   \n",
       "2         185.0  443.0    3518.0     3887.0             12.0   \n",
       "3           7.0   44.0     389.0      171.0             12.0   \n",
       "4          33.0  190.0     463.0      529.0             12.0   \n",
       "...         ...    ...       ...        ...              ...   \n",
       "2824       55.0  365.0    2354.0      854.0              NaN   \n",
       "2825       19.0  103.0     234.0      270.0              NaN   \n",
       "2826      162.0  494.0    4024.0     3404.0              NaN   \n",
       "2827       27.0  349.0    2730.0      733.0              NaN   \n",
       "2828    15696.0    NaN       NaN        NaN              NaN   \n",
       "\n",
       "      crimes_percapita  homicides_percapita  rapes_percapita  \\\n",
       "0               832.52                10.48            63.23   \n",
       "1               247.16                 4.45            24.89   \n",
       "2              1637.44                37.71            90.30   \n",
       "3               523.76                 6.00            37.72   \n",
       "4               404.46                10.99            63.25   \n",
       "...                ...                  ...              ...   \n",
       "2824            903.57                13.70            90.90   \n",
       "2825            138.25                 4.20            22.75   \n",
       "2826           1202.57                24.10            73.49   \n",
       "2827            984.80                 6.93            89.53   \n",
       "2828            372.60                 4.90              NaN   \n",
       "\n",
       "      assaults_percapita  robberies_percapita  \n",
       "0                 472.68               286.13  \n",
       "1                 117.36               100.46  \n",
       "2                 717.10               792.32  \n",
       "3                 333.46               146.58  \n",
       "4                 154.13               176.10  \n",
       "...                  ...                  ...  \n",
       "2824              586.27               212.69  \n",
       "2825               51.68                59.63  \n",
       "2826              598.61               506.38  \n",
       "2827              700.32               188.03  \n",
       "2828                 NaN                  NaN  \n",
       "\n",
       "[2829 rows x 15 columns]"
      ]
     },
     "execution_count": 64,
     "metadata": {},
     "output_type": "execute_result"
    }
   ],
   "source": [
    "data.reset_index(drop=True)"
   ]
  },
  {
   "cell_type": "code",
   "execution_count": 65,
   "metadata": {},
   "outputs": [
    {
     "data": {
      "text/plain": [
       "report_year              0\n",
       "agency_code             41\n",
       "agency_jurisdiction      0\n",
       "population              69\n",
       "violent_crimes          35\n",
       "homicides               34\n",
       "rapes                   75\n",
       "assaults                76\n",
       "robberies               75\n",
       "months_reported        137\n",
       "crimes_percapita        35\n",
       "homicides_percapita     34\n",
       "rapes_percapita         75\n",
       "assaults_percapita      76\n",
       "robberies_percapita     75\n",
       "dtype: int64"
      ]
     },
     "execution_count": 65,
     "metadata": {},
     "output_type": "execute_result"
    }
   ],
   "source": [
    "data.isnull().sum()"
   ]
  },
  {
   "cell_type": "code",
   "execution_count": 66,
   "metadata": {},
   "outputs": [
    {
     "data": {
      "text/plain": [
       "report_year              0\n",
       "agency_code             41\n",
       "agency_jurisdiction      0\n",
       "population              69\n",
       "violent_crimes          35\n",
       "homicides               34\n",
       "rapes                   75\n",
       "assaults                76\n",
       "robberies               75\n",
       "months_reported        137\n",
       "crimes_percapita        35\n",
       "homicides_percapita     34\n",
       "rapes_percapita         75\n",
       "assaults_percapita      76\n",
       "robberies_percapita     75\n",
       "dtype: int64"
      ]
     },
     "execution_count": 66,
     "metadata": {},
     "output_type": "execute_result"
    }
   ],
   "source": [
    "data.isnull().sum()"
   ]
  },
  {
   "cell_type": "code",
   "execution_count": 67,
   "metadata": {},
   "outputs": [],
   "source": [
    "data=data[['report_year','agency_jurisdiction','robberies']]"
   ]
  },
  {
   "cell_type": "code",
   "execution_count": 68,
   "metadata": {},
   "outputs": [
    {
     "data": {
      "text/html": [
       "<div>\n",
       "<style scoped>\n",
       "    .dataframe tbody tr th:only-of-type {\n",
       "        vertical-align: middle;\n",
       "    }\n",
       "\n",
       "    .dataframe tbody tr th {\n",
       "        vertical-align: top;\n",
       "    }\n",
       "\n",
       "    .dataframe thead th {\n",
       "        text-align: right;\n",
       "    }\n",
       "</style>\n",
       "<table border=\"1\" class=\"dataframe\">\n",
       "  <thead>\n",
       "    <tr style=\"text-align: right;\">\n",
       "      <th></th>\n",
       "      <th>report_year</th>\n",
       "      <th>agency_jurisdiction</th>\n",
       "      <th>robberies</th>\n",
       "    </tr>\n",
       "  </thead>\n",
       "  <tbody>\n",
       "    <tr>\n",
       "      <th>0</th>\n",
       "      <td>1975</td>\n",
       "      <td>Albuquerque, NM</td>\n",
       "      <td>819.0</td>\n",
       "    </tr>\n",
       "    <tr>\n",
       "      <th>1</th>\n",
       "      <td>1975</td>\n",
       "      <td>Arlington, TX</td>\n",
       "      <td>113.0</td>\n",
       "    </tr>\n",
       "    <tr>\n",
       "      <th>2</th>\n",
       "      <td>1975</td>\n",
       "      <td>Atlanta, GA</td>\n",
       "      <td>3887.0</td>\n",
       "    </tr>\n",
       "    <tr>\n",
       "      <th>3</th>\n",
       "      <td>1975</td>\n",
       "      <td>Aurora, CO</td>\n",
       "      <td>171.0</td>\n",
       "    </tr>\n",
       "    <tr>\n",
       "      <th>4</th>\n",
       "      <td>1975</td>\n",
       "      <td>Austin, TX</td>\n",
       "      <td>529.0</td>\n",
       "    </tr>\n",
       "  </tbody>\n",
       "</table>\n",
       "</div>"
      ],
      "text/plain": [
       "   report_year agency_jurisdiction  robberies\n",
       "0         1975     Albuquerque, NM      819.0\n",
       "1         1975       Arlington, TX      113.0\n",
       "2         1975         Atlanta, GA     3887.0\n",
       "3         1975          Aurora, CO      171.0\n",
       "4         1975          Austin, TX      529.0"
      ]
     },
     "execution_count": 68,
     "metadata": {},
     "output_type": "execute_result"
    }
   ],
   "source": [
    "data.head()"
   ]
  },
  {
   "cell_type": "code",
   "execution_count": 69,
   "metadata": {},
   "outputs": [],
   "source": [
    "df=data.loc[data['agency_jurisdiction'] == 'Los Angeles, CA']"
   ]
  },
  {
   "cell_type": "code",
   "execution_count": 70,
   "metadata": {},
   "outputs": [
    {
     "data": {
      "text/html": [
       "<div>\n",
       "<style scoped>\n",
       "    .dataframe tbody tr th:only-of-type {\n",
       "        vertical-align: middle;\n",
       "    }\n",
       "\n",
       "    .dataframe tbody tr th {\n",
       "        vertical-align: top;\n",
       "    }\n",
       "\n",
       "    .dataframe thead th {\n",
       "        text-align: right;\n",
       "    }\n",
       "</style>\n",
       "<table border=\"1\" class=\"dataframe\">\n",
       "  <thead>\n",
       "    <tr style=\"text-align: right;\">\n",
       "      <th></th>\n",
       "      <th>report_year</th>\n",
       "      <th>agency_jurisdiction</th>\n",
       "      <th>robberies</th>\n",
       "    </tr>\n",
       "  </thead>\n",
       "  <tbody>\n",
       "    <tr>\n",
       "      <th>29</th>\n",
       "      <td>1975</td>\n",
       "      <td>Los Angeles, CA</td>\n",
       "      <td>14590.0</td>\n",
       "    </tr>\n",
       "    <tr>\n",
       "      <th>98</th>\n",
       "      <td>1976</td>\n",
       "      <td>Los Angeles, CA</td>\n",
       "      <td>14225.0</td>\n",
       "    </tr>\n",
       "    <tr>\n",
       "      <th>167</th>\n",
       "      <td>1977</td>\n",
       "      <td>Los Angeles, CA</td>\n",
       "      <td>15246.0</td>\n",
       "    </tr>\n",
       "    <tr>\n",
       "      <th>236</th>\n",
       "      <td>1978</td>\n",
       "      <td>Los Angeles, CA</td>\n",
       "      <td>17105.0</td>\n",
       "    </tr>\n",
       "    <tr>\n",
       "      <th>305</th>\n",
       "      <td>1979</td>\n",
       "      <td>Los Angeles, CA</td>\n",
       "      <td>20454.0</td>\n",
       "    </tr>\n",
       "  </tbody>\n",
       "</table>\n",
       "</div>"
      ],
      "text/plain": [
       "     report_year agency_jurisdiction  robberies\n",
       "29          1975     Los Angeles, CA    14590.0\n",
       "98          1976     Los Angeles, CA    14225.0\n",
       "167         1977     Los Angeles, CA    15246.0\n",
       "236         1978     Los Angeles, CA    17105.0\n",
       "305         1979     Los Angeles, CA    20454.0"
      ]
     },
     "execution_count": 70,
     "metadata": {},
     "output_type": "execute_result"
    }
   ],
   "source": [
    "df.head()"
   ]
  },
  {
   "cell_type": "code",
   "execution_count": 73,
   "metadata": {},
   "outputs": [
    {
     "data": {
      "text/plain": [
       "report_year            0\n",
       "agency_jurisdiction    0\n",
       "robberies              0\n",
       "dtype: int64"
      ]
     },
     "execution_count": 73,
     "metadata": {},
     "output_type": "execute_result"
    }
   ],
   "source": [
    "df.isnull().sum()"
   ]
  },
  {
   "cell_type": "code",
   "execution_count": 74,
   "metadata": {},
   "outputs": [
    {
     "data": {
      "text/html": [
       "<div>\n",
       "<style scoped>\n",
       "    .dataframe tbody tr th:only-of-type {\n",
       "        vertical-align: middle;\n",
       "    }\n",
       "\n",
       "    .dataframe tbody tr th {\n",
       "        vertical-align: top;\n",
       "    }\n",
       "\n",
       "    .dataframe thead th {\n",
       "        text-align: right;\n",
       "    }\n",
       "</style>\n",
       "<table border=\"1\" class=\"dataframe\">\n",
       "  <thead>\n",
       "    <tr style=\"text-align: right;\">\n",
       "      <th></th>\n",
       "      <th>report_year</th>\n",
       "      <th>agency_jurisdiction</th>\n",
       "      <th>robberies</th>\n",
       "    </tr>\n",
       "  </thead>\n",
       "  <tbody>\n",
       "    <tr>\n",
       "      <th>0</th>\n",
       "      <td>1975</td>\n",
       "      <td>Los Angeles, CA</td>\n",
       "      <td>14590.0</td>\n",
       "    </tr>\n",
       "    <tr>\n",
       "      <th>1</th>\n",
       "      <td>1976</td>\n",
       "      <td>Los Angeles, CA</td>\n",
       "      <td>14225.0</td>\n",
       "    </tr>\n",
       "    <tr>\n",
       "      <th>2</th>\n",
       "      <td>1977</td>\n",
       "      <td>Los Angeles, CA</td>\n",
       "      <td>15246.0</td>\n",
       "    </tr>\n",
       "    <tr>\n",
       "      <th>3</th>\n",
       "      <td>1978</td>\n",
       "      <td>Los Angeles, CA</td>\n",
       "      <td>17105.0</td>\n",
       "    </tr>\n",
       "    <tr>\n",
       "      <th>4</th>\n",
       "      <td>1979</td>\n",
       "      <td>Los Angeles, CA</td>\n",
       "      <td>20454.0</td>\n",
       "    </tr>\n",
       "    <tr>\n",
       "      <th>5</th>\n",
       "      <td>1980</td>\n",
       "      <td>Los Angeles, CA</td>\n",
       "      <td>25637.0</td>\n",
       "    </tr>\n",
       "    <tr>\n",
       "      <th>6</th>\n",
       "      <td>1981</td>\n",
       "      <td>Los Angeles, CA</td>\n",
       "      <td>28152.0</td>\n",
       "    </tr>\n",
       "    <tr>\n",
       "      <th>7</th>\n",
       "      <td>1982</td>\n",
       "      <td>Los Angeles, CA</td>\n",
       "      <td>30029.0</td>\n",
       "    </tr>\n",
       "    <tr>\n",
       "      <th>8</th>\n",
       "      <td>1983</td>\n",
       "      <td>Los Angeles, CA</td>\n",
       "      <td>29243.0</td>\n",
       "    </tr>\n",
       "    <tr>\n",
       "      <th>9</th>\n",
       "      <td>1984</td>\n",
       "      <td>Los Angeles, CA</td>\n",
       "      <td>27323.0</td>\n",
       "    </tr>\n",
       "    <tr>\n",
       "      <th>10</th>\n",
       "      <td>1985</td>\n",
       "      <td>Los Angeles, CA</td>\n",
       "      <td>27938.0</td>\n",
       "    </tr>\n",
       "    <tr>\n",
       "      <th>11</th>\n",
       "      <td>1986</td>\n",
       "      <td>Los Angeles, CA</td>\n",
       "      <td>29930.0</td>\n",
       "    </tr>\n",
       "    <tr>\n",
       "      <th>12</th>\n",
       "      <td>1987</td>\n",
       "      <td>Los Angeles, CA</td>\n",
       "      <td>26192.0</td>\n",
       "    </tr>\n",
       "    <tr>\n",
       "      <th>13</th>\n",
       "      <td>1988</td>\n",
       "      <td>Los Angeles, CA</td>\n",
       "      <td>26182.0</td>\n",
       "    </tr>\n",
       "    <tr>\n",
       "      <th>14</th>\n",
       "      <td>1989</td>\n",
       "      <td>Los Angeles, CA</td>\n",
       "      <td>31063.0</td>\n",
       "    </tr>\n",
       "    <tr>\n",
       "      <th>15</th>\n",
       "      <td>1990</td>\n",
       "      <td>Los Angeles, CA</td>\n",
       "      <td>36098.0</td>\n",
       "    </tr>\n",
       "    <tr>\n",
       "      <th>16</th>\n",
       "      <td>1991</td>\n",
       "      <td>Los Angeles, CA</td>\n",
       "      <td>39778.0</td>\n",
       "    </tr>\n",
       "    <tr>\n",
       "      <th>17</th>\n",
       "      <td>1992</td>\n",
       "      <td>Los Angeles, CA</td>\n",
       "      <td>39508.0</td>\n",
       "    </tr>\n",
       "    <tr>\n",
       "      <th>18</th>\n",
       "      <td>1993</td>\n",
       "      <td>Los Angeles, CA</td>\n",
       "      <td>38415.0</td>\n",
       "    </tr>\n",
       "    <tr>\n",
       "      <th>19</th>\n",
       "      <td>1994</td>\n",
       "      <td>Los Angeles, CA</td>\n",
       "      <td>30817.0</td>\n",
       "    </tr>\n",
       "    <tr>\n",
       "      <th>20</th>\n",
       "      <td>1995</td>\n",
       "      <td>Los Angeles, CA</td>\n",
       "      <td>29134.0</td>\n",
       "    </tr>\n",
       "    <tr>\n",
       "      <th>21</th>\n",
       "      <td>1996</td>\n",
       "      <td>Los Angeles, CA</td>\n",
       "      <td>25189.0</td>\n",
       "    </tr>\n",
       "    <tr>\n",
       "      <th>22</th>\n",
       "      <td>1997</td>\n",
       "      <td>Los Angeles, CA</td>\n",
       "      <td>20506.0</td>\n",
       "    </tr>\n",
       "    <tr>\n",
       "      <th>23</th>\n",
       "      <td>1998</td>\n",
       "      <td>Los Angeles, CA</td>\n",
       "      <td>15835.0</td>\n",
       "    </tr>\n",
       "    <tr>\n",
       "      <th>24</th>\n",
       "      <td>1999</td>\n",
       "      <td>Los Angeles, CA</td>\n",
       "      <td>14411.0</td>\n",
       "    </tr>\n",
       "    <tr>\n",
       "      <th>25</th>\n",
       "      <td>2000</td>\n",
       "      <td>Los Angeles, CA</td>\n",
       "      <td>15527.0</td>\n",
       "    </tr>\n",
       "    <tr>\n",
       "      <th>26</th>\n",
       "      <td>2001</td>\n",
       "      <td>Los Angeles, CA</td>\n",
       "      <td>17166.0</td>\n",
       "    </tr>\n",
       "    <tr>\n",
       "      <th>27</th>\n",
       "      <td>2002</td>\n",
       "      <td>Los Angeles, CA</td>\n",
       "      <td>17197.0</td>\n",
       "    </tr>\n",
       "    <tr>\n",
       "      <th>28</th>\n",
       "      <td>2003</td>\n",
       "      <td>Los Angeles, CA</td>\n",
       "      <td>16577.0</td>\n",
       "    </tr>\n",
       "    <tr>\n",
       "      <th>29</th>\n",
       "      <td>2004</td>\n",
       "      <td>Los Angeles, CA</td>\n",
       "      <td>14181.0</td>\n",
       "    </tr>\n",
       "    <tr>\n",
       "      <th>30</th>\n",
       "      <td>2005</td>\n",
       "      <td>Los Angeles, CA</td>\n",
       "      <td>13797.0</td>\n",
       "    </tr>\n",
       "    <tr>\n",
       "      <th>31</th>\n",
       "      <td>2006</td>\n",
       "      <td>Los Angeles, CA</td>\n",
       "      <td>14353.0</td>\n",
       "    </tr>\n",
       "    <tr>\n",
       "      <th>32</th>\n",
       "      <td>2007</td>\n",
       "      <td>Los Angeles, CA</td>\n",
       "      <td>13481.0</td>\n",
       "    </tr>\n",
       "    <tr>\n",
       "      <th>33</th>\n",
       "      <td>2008</td>\n",
       "      <td>Los Angeles, CA</td>\n",
       "      <td>13422.0</td>\n",
       "    </tr>\n",
       "    <tr>\n",
       "      <th>34</th>\n",
       "      <td>2009</td>\n",
       "      <td>Los Angeles, CA</td>\n",
       "      <td>12217.0</td>\n",
       "    </tr>\n",
       "    <tr>\n",
       "      <th>35</th>\n",
       "      <td>2010</td>\n",
       "      <td>Los Angeles, CA</td>\n",
       "      <td>10924.0</td>\n",
       "    </tr>\n",
       "    <tr>\n",
       "      <th>36</th>\n",
       "      <td>2011</td>\n",
       "      <td>Los Angeles, CA</td>\n",
       "      <td>10077.0</td>\n",
       "    </tr>\n",
       "    <tr>\n",
       "      <th>37</th>\n",
       "      <td>2012</td>\n",
       "      <td>Los Angeles, CA</td>\n",
       "      <td>8983.0</td>\n",
       "    </tr>\n",
       "    <tr>\n",
       "      <th>38</th>\n",
       "      <td>2013</td>\n",
       "      <td>Los Angeles, CA</td>\n",
       "      <td>7885.0</td>\n",
       "    </tr>\n",
       "    <tr>\n",
       "      <th>39</th>\n",
       "      <td>2014</td>\n",
       "      <td>Los Angeles, CA</td>\n",
       "      <td>7949.0</td>\n",
       "    </tr>\n",
       "    <tr>\n",
       "      <th>40</th>\n",
       "      <td>2015</td>\n",
       "      <td>Los Angeles, CA</td>\n",
       "      <td>8952.0</td>\n",
       "    </tr>\n",
       "  </tbody>\n",
       "</table>\n",
       "</div>"
      ],
      "text/plain": [
       "    report_year agency_jurisdiction  robberies\n",
       "0          1975     Los Angeles, CA    14590.0\n",
       "1          1976     Los Angeles, CA    14225.0\n",
       "2          1977     Los Angeles, CA    15246.0\n",
       "3          1978     Los Angeles, CA    17105.0\n",
       "4          1979     Los Angeles, CA    20454.0\n",
       "5          1980     Los Angeles, CA    25637.0\n",
       "6          1981     Los Angeles, CA    28152.0\n",
       "7          1982     Los Angeles, CA    30029.0\n",
       "8          1983     Los Angeles, CA    29243.0\n",
       "9          1984     Los Angeles, CA    27323.0\n",
       "10         1985     Los Angeles, CA    27938.0\n",
       "11         1986     Los Angeles, CA    29930.0\n",
       "12         1987     Los Angeles, CA    26192.0\n",
       "13         1988     Los Angeles, CA    26182.0\n",
       "14         1989     Los Angeles, CA    31063.0\n",
       "15         1990     Los Angeles, CA    36098.0\n",
       "16         1991     Los Angeles, CA    39778.0\n",
       "17         1992     Los Angeles, CA    39508.0\n",
       "18         1993     Los Angeles, CA    38415.0\n",
       "19         1994     Los Angeles, CA    30817.0\n",
       "20         1995     Los Angeles, CA    29134.0\n",
       "21         1996     Los Angeles, CA    25189.0\n",
       "22         1997     Los Angeles, CA    20506.0\n",
       "23         1998     Los Angeles, CA    15835.0\n",
       "24         1999     Los Angeles, CA    14411.0\n",
       "25         2000     Los Angeles, CA    15527.0\n",
       "26         2001     Los Angeles, CA    17166.0\n",
       "27         2002     Los Angeles, CA    17197.0\n",
       "28         2003     Los Angeles, CA    16577.0\n",
       "29         2004     Los Angeles, CA    14181.0\n",
       "30         2005     Los Angeles, CA    13797.0\n",
       "31         2006     Los Angeles, CA    14353.0\n",
       "32         2007     Los Angeles, CA    13481.0\n",
       "33         2008     Los Angeles, CA    13422.0\n",
       "34         2009     Los Angeles, CA    12217.0\n",
       "35         2010     Los Angeles, CA    10924.0\n",
       "36         2011     Los Angeles, CA    10077.0\n",
       "37         2012     Los Angeles, CA     8983.0\n",
       "38         2013     Los Angeles, CA     7885.0\n",
       "39         2014     Los Angeles, CA     7949.0\n",
       "40         2015     Los Angeles, CA     8952.0"
      ]
     },
     "execution_count": 74,
     "metadata": {},
     "output_type": "execute_result"
    }
   ],
   "source": [
    "df.reset_index(drop=True)"
   ]
  },
  {
   "cell_type": "code",
   "execution_count": 75,
   "metadata": {},
   "outputs": [
    {
     "data": {
      "text/plain": [
       "(41, 1)"
      ]
     },
     "execution_count": 75,
     "metadata": {},
     "output_type": "execute_result"
    }
   ],
   "source": [
    "hc=df[['report_year','robberies']]\n",
    "hc.set_index('report_year',inplace=True)\n",
    "hc.shape"
   ]
  },
  {
   "cell_type": "code",
   "execution_count": 76,
   "metadata": {},
   "outputs": [
    {
     "data": {
      "text/html": [
       "<div>\n",
       "<style scoped>\n",
       "    .dataframe tbody tr th:only-of-type {\n",
       "        vertical-align: middle;\n",
       "    }\n",
       "\n",
       "    .dataframe tbody tr th {\n",
       "        vertical-align: top;\n",
       "    }\n",
       "\n",
       "    .dataframe thead th {\n",
       "        text-align: right;\n",
       "    }\n",
       "</style>\n",
       "<table border=\"1\" class=\"dataframe\">\n",
       "  <thead>\n",
       "    <tr style=\"text-align: right;\">\n",
       "      <th></th>\n",
       "      <th>robberies</th>\n",
       "    </tr>\n",
       "    <tr>\n",
       "      <th>report_year</th>\n",
       "      <th></th>\n",
       "    </tr>\n",
       "  </thead>\n",
       "  <tbody>\n",
       "    <tr>\n",
       "      <th>1975</th>\n",
       "      <td>14590.0</td>\n",
       "    </tr>\n",
       "    <tr>\n",
       "      <th>1976</th>\n",
       "      <td>14225.0</td>\n",
       "    </tr>\n",
       "    <tr>\n",
       "      <th>1977</th>\n",
       "      <td>15246.0</td>\n",
       "    </tr>\n",
       "    <tr>\n",
       "      <th>1978</th>\n",
       "      <td>17105.0</td>\n",
       "    </tr>\n",
       "    <tr>\n",
       "      <th>1979</th>\n",
       "      <td>20454.0</td>\n",
       "    </tr>\n",
       "  </tbody>\n",
       "</table>\n",
       "</div>"
      ],
      "text/plain": [
       "             robberies\n",
       "report_year           \n",
       "1975           14590.0\n",
       "1976           14225.0\n",
       "1977           15246.0\n",
       "1978           17105.0\n",
       "1979           20454.0"
      ]
     },
     "execution_count": 76,
     "metadata": {},
     "output_type": "execute_result"
    }
   ],
   "source": [
    "hc.head()"
   ]
  },
  {
   "cell_type": "code",
   "execution_count": 77,
   "metadata": {},
   "outputs": [
    {
     "data": {
      "text/plain": [
       "[<matplotlib.lines.Line2D at 0x1fcaab2c2e0>]"
      ]
     },
     "execution_count": 77,
     "metadata": {},
     "output_type": "execute_result"
    },
    {
     "data": {
      "image/png": "[encoded data removed]",
      "text/plain": [
       "<Figure size 720x504 with 1 Axes>"
      ]
     },
     "metadata": {
      "needs_background": "light"
     },
     "output_type": "display_data"
    }
   ],
   "source": [
    "plt.figure(figsize=(10,7))\n",
    "plt.plot(hc,'r-')"
   ]
  },
  {
   "cell_type": "code",
   "execution_count": null,
   "metadata": {},
   "outputs": [],
   "source": []
  },
  {
   "cell_type": "code",
   "execution_count": 78,
   "metadata": {},
   "outputs": [],
   "source": [
    "diff = hc.diff(periods=1)"
   ]
  },
  {
   "cell_type": "code",
   "execution_count": 79,
   "metadata": {},
   "outputs": [
    {
     "data": {
      "text/html": [
       "<div>\n",
       "<style scoped>\n",
       "    .dataframe tbody tr th:only-of-type {\n",
       "        vertical-align: middle;\n",
       "    }\n",
       "\n",
       "    .dataframe tbody tr th {\n",
       "        vertical-align: top;\n",
       "    }\n",
       "\n",
       "    .dataframe thead th {\n",
       "        text-align: right;\n",
       "    }\n",
       "</style>\n",
       "<table border=\"1\" class=\"dataframe\">\n",
       "  <thead>\n",
       "    <tr style=\"text-align: right;\">\n",
       "      <th></th>\n",
       "      <th>robberies</th>\n",
       "    </tr>\n",
       "    <tr>\n",
       "      <th>report_year</th>\n",
       "      <th></th>\n",
       "    </tr>\n",
       "  </thead>\n",
       "  <tbody>\n",
       "    <tr>\n",
       "      <th>1976</th>\n",
       "      <td>-365.0</td>\n",
       "    </tr>\n",
       "    <tr>\n",
       "      <th>1977</th>\n",
       "      <td>1021.0</td>\n",
       "    </tr>\n",
       "    <tr>\n",
       "      <th>1978</th>\n",
       "      <td>1859.0</td>\n",
       "    </tr>\n",
       "    <tr>\n",
       "      <th>1979</th>\n",
       "      <td>3349.0</td>\n",
       "    </tr>\n",
       "    <tr>\n",
       "      <th>1980</th>\n",
       "      <td>5183.0</td>\n",
       "    </tr>\n",
       "  </tbody>\n",
       "</table>\n",
       "</div>"
      ],
      "text/plain": [
       "             robberies\n",
       "report_year           \n",
       "1976            -365.0\n",
       "1977            1021.0\n",
       "1978            1859.0\n",
       "1979            3349.0\n",
       "1980            5183.0"
      ]
     },
     "execution_count": 79,
     "metadata": {},
     "output_type": "execute_result"
    }
   ],
   "source": [
    "diff = diff[1:]\n",
    "diff.head()"
   ]
  },
  {
   "cell_type": "code",
   "execution_count": 80,
   "metadata": {},
   "outputs": [
    {
     "data": {
      "text/plain": [
       "40"
      ]
     },
     "execution_count": 80,
     "metadata": {},
     "output_type": "execute_result"
    },
    {
     "data": {
      "image/png": "[encoded data removed]",
      "text/plain": [
       "<Figure size 432x288 with 1 Axes>"
      ]
     },
     "metadata": {
      "needs_background": "light"
     },
     "output_type": "display_data"
    }
   ],
   "source": [
    "from statsmodels.graphics.tsaplots import plot_acf\n",
    "plot_acf(diff)\n",
    "diff.size\n"
   ]
  },
  {
   "cell_type": "code",
   "execution_count": 81,
   "metadata": {},
   "outputs": [
    {
     "data": {
      "text/plain": [
       "<AxesSubplot:xlabel='report_year'>"
      ]
     },
     "execution_count": 81,
     "metadata": {},
     "output_type": "execute_result"
    },
    {
     "data": {
      "image/png": "[encoded data removed]",
      "text/plain": [
       "<Figure size 432x288 with 1 Axes>"
      ]
     },
     "metadata": {
      "needs_background": "light"
     },
     "output_type": "display_data"
    }
   ],
   "source": [
    "diff.plot()"
   ]
  },
  {
   "cell_type": "code",
   "execution_count": 82,
   "metadata": {},
   "outputs": [
    {
     "data": {
      "text/plain": [
       "(0.25545366635785327, True)"
      ]
     },
     "execution_count": 82,
     "metadata": {},
     "output_type": "execute_result"
    }
   ],
   "source": [
    "from pmdarima.arima import ADFTest\n",
    "adf_test = ADFTest(alpha = 0.05)\n",
    "adf_test.should_diff(hc)\n"
   ]
  },
  {
   "cell_type": "code",
   "execution_count": 83,
   "metadata": {},
   "outputs": [],
   "source": [
    "from statsmodels.tsa.stattools import adfuller"
   ]
  },
  {
   "cell_type": "code",
   "execution_count": 84,
   "metadata": {},
   "outputs": [
    {
     "name": "stdout",
     "output_type": "stream",
     "text": [
      "ADF Statistic: -1.6887351282715457\n",
      "n_lags: 0.43692562385025036\n",
      "p-value: 0.43692562385025036\n",
      "Critial Values:\n",
      "   1%, -3.610399601308181\n",
      "Critial Values:\n",
      "   5%, -2.939108945868946\n",
      "Critial Values:\n",
      "   10%, -2.6080629651545038\n"
     ]
    }
   ],
   "source": [
    "result = adfuller(hc, autolag='AIC')\n",
    "print(f'ADF Statistic: {result[0]}')\n",
    "print(f'n_lags: {result[1]}')\n",
    "print(f'p-value: {result[1]}')\n",
    "for key, value in result[4].items():\n",
    "    print('Critial Values:')\n",
    "    print(f'   {key}, {value}')    "
   ]
  },
  {
   "cell_type": "code",
   "execution_count": 85,
   "metadata": {},
   "outputs": [],
   "source": [
    "train=diff[:34]\n",
    "test=diff[33:]"
   ]
  },
  {
   "cell_type": "code",
   "execution_count": 86,
   "metadata": {},
   "outputs": [
    {
     "data": {
      "text/html": [
       "<div>\n",
       "<style scoped>\n",
       "    .dataframe tbody tr th:only-of-type {\n",
       "        vertical-align: middle;\n",
       "    }\n",
       "\n",
       "    .dataframe tbody tr th {\n",
       "        vertical-align: top;\n",
       "    }\n",
       "\n",
       "    .dataframe thead th {\n",
       "        text-align: right;\n",
       "    }\n",
       "</style>\n",
       "<table border=\"1\" class=\"dataframe\">\n",
       "  <thead>\n",
       "    <tr style=\"text-align: right;\">\n",
       "      <th></th>\n",
       "      <th>robberies</th>\n",
       "    </tr>\n",
       "    <tr>\n",
       "      <th>report_year</th>\n",
       "      <th></th>\n",
       "    </tr>\n",
       "  </thead>\n",
       "  <tbody>\n",
       "    <tr>\n",
       "      <th>2005</th>\n",
       "      <td>-384.0</td>\n",
       "    </tr>\n",
       "    <tr>\n",
       "      <th>2006</th>\n",
       "      <td>556.0</td>\n",
       "    </tr>\n",
       "    <tr>\n",
       "      <th>2007</th>\n",
       "      <td>-872.0</td>\n",
       "    </tr>\n",
       "    <tr>\n",
       "      <th>2008</th>\n",
       "      <td>-59.0</td>\n",
       "    </tr>\n",
       "    <tr>\n",
       "      <th>2009</th>\n",
       "      <td>-1205.0</td>\n",
       "    </tr>\n",
       "  </tbody>\n",
       "</table>\n",
       "</div>"
      ],
      "text/plain": [
       "             robberies\n",
       "report_year           \n",
       "2005            -384.0\n",
       "2006             556.0\n",
       "2007            -872.0\n",
       "2008             -59.0\n",
       "2009           -1205.0"
      ]
     },
     "execution_count": 86,
     "metadata": {},
     "output_type": "execute_result"
    }
   ],
   "source": [
    "train.tail()"
   ]
  },
  {
   "cell_type": "code",
   "execution_count": 87,
   "metadata": {},
   "outputs": [
    {
     "data": {
      "text/plain": [
       "7"
      ]
     },
     "execution_count": 87,
     "metadata": {},
     "output_type": "execute_result"
    }
   ],
   "source": [
    "test.head()\n",
    "test.size"
   ]
  },
  {
   "cell_type": "code",
   "execution_count": 88,
   "metadata": {},
   "outputs": [
    {
     "data": {
      "text/plain": [
       "[<matplotlib.lines.Line2D at 0x1fca89ffac0>]"
      ]
     },
     "execution_count": 88,
     "metadata": {},
     "output_type": "execute_result"
    },
    {
     "data": {
      "image/png": "[encoded data removed]",
      "text/plain": [
       "<Figure size 432x288 with 1 Axes>"
      ]
     },
     "metadata": {
      "needs_background": "light"
     },
     "output_type": "display_data"
    }
   ],
   "source": [
    "plt.plot(train)\n",
    "plt.plot(test)"
   ]
  },
  {
   "cell_type": "code",
   "execution_count": 98,
   "metadata": {},
   "outputs": [
    {
     "name": "stderr",
     "output_type": "stream",
     "text": [
      "C:\\Users\\manish\\anaconda3\\lib\\site-packages\\statsmodels\\tsa\\base\\tsa_model.py:578: ValueWarning: An unsupported index was provided and will be ignored when e.g. forecasting.\n",
      "  warnings.warn('An unsupported index was provided and will be'\n",
      "C:\\Users\\manish\\anaconda3\\lib\\site-packages\\statsmodels\\tsa\\holtwinters\\model.py:427: FutureWarning: After 0.13 initialization must be handled at model creation\n",
      "  warnings.warn(\n",
      "<ipython-input-98-3d6be4246d4e>:4: FutureWarning: the 'damped'' keyword is deprecated, use 'damped_trend' instead\n",
      "  model2 = ExponentialSmoothing(train, trend=\"add\", seasonal=\"add\", seasonal_periods=12, damped=True)\n",
      "C:\\Users\\manish\\anaconda3\\lib\\site-packages\\statsmodels\\tsa\\base\\tsa_model.py:578: ValueWarning: An unsupported index was provided and will be ignored when e.g. forecasting.\n",
      "  warnings.warn('An unsupported index was provided and will be'\n",
      "C:\\Users\\manish\\anaconda3\\lib\\site-packages\\statsmodels\\tsa\\holtwinters\\model.py:920: ConvergenceWarning: Optimization failed to converge. Check mle_retvals.\n",
      "  warnings.warn(\n",
      "C:\\Users\\manish\\anaconda3\\lib\\site-packages\\statsmodels\\tsa\\base\\tsa_model.py:376: ValueWarning: No supported index is available. Prediction results will be given with an integer index beginning at `start`.\n",
      "  warnings.warn('No supported index is available.'\n"
     ]
    },
    {
     "data": {
      "image/png": "[encoded data removed]",
      "text/plain": [
       "<Figure size 864x432 with 1 Axes>"
      ]
     },
     "metadata": {
      "needs_background": "light"
     },
     "output_type": "display_data"
    }
   ],
   "source": [
    "from statsmodels.tsa.holtwinters import ExponentialSmoothing\n",
    "\n",
    "model = ExponentialSmoothing(train, trend=\"add\", seasonal=\"add\", seasonal_periods=4)\n",
    "model2 = ExponentialSmoothing(train, trend=\"add\", seasonal=\"add\", seasonal_periods=12, damped=True)\n",
    "fit = model.fit()\n",
    "pred = fit.forecast(7)\n",
    "#fit2 = model2.fit()\n",
    "#pred2 = fit2.forecast(7)\n",
    "\n",
    "sse1 = np.sqrt(np.mean(np.square(test.values - pred.values)))\n",
    "#sse2 = np.sqrt(np.mean(np.square(test.values - pred2.values)))\n",
    "\n",
    "fig, ax = plt.subplots(figsize=(12, 6))\n",
    "ax.plot(train.index[25:34], train.values[25:34]);\n",
    "ax.plot(test.index, test.values, label='truth');\n",
    "ax.plot(test.index, pred, linestyle='--', color='#ff7823',label=\"w/o damping (RMSE={:0.2f}, AIC={:0.2f})\".format(sse1, fit.aic));\n",
    "#ax.plot(test.index, pred2, linestyle='--', color='#3c763d',label=\"damped (RMSE={:0.2f}, AIC={:0.2f})\".format(sse2, fit2.aic)); \n",
    "ax.legend();\n",
    "ax.set_title(\"Exponential Smoothing\");"
   ]
  },
  {
   "cell_type": "code",
   "execution_count": 97,
   "metadata": {},
   "outputs": [
    {
     "data": {
      "text/plain": [
       "-0.22135841857756433"
      ]
     },
     "execution_count": 97,
     "metadata": {},
     "output_type": "execute_result"
    }
   ],
   "source": [
    "from sklearn.metrics import r2_score\n",
    "r2_score(test, pred)"
   ]
  },
  {
   "cell_type": "code",
   "execution_count": 91,
   "metadata": {},
   "outputs": [
    {
     "name": "stdout",
     "output_type": "stream",
     "text": [
      "Performing stepwise search to minimize aic\n",
      " ARIMA(0,1,0)(0,0,1)[10] intercept   : AIC=617.610, Time=0.11 sec\n",
      " ARIMA(0,1,0)(0,0,0)[10] intercept   : AIC=618.559, Time=0.01 sec\n",
      " ARIMA(1,1,0)(1,0,0)[10] intercept   : AIC=615.667, Time=0.15 sec\n",
      " ARIMA(0,1,1)(0,0,1)[10] intercept   : AIC=616.264, Time=0.12 sec\n",
      " ARIMA(0,1,0)(0,0,0)[10]             : AIC=616.574, Time=0.01 sec\n",
      " ARIMA(1,1,0)(0,0,0)[10] intercept   : AIC=619.885, Time=0.02 sec\n",
      " ARIMA(1,1,0)(2,0,0)[10] intercept   : AIC=618.786, Time=0.08 sec\n",
      " ARIMA(1,1,0)(1,0,1)[10] intercept   : AIC=617.519, Time=0.30 sec\n",
      " ARIMA(1,1,0)(0,0,1)[10] intercept   : AIC=617.374, Time=0.05 sec\n",
      " ARIMA(1,1,0)(2,0,1)[10] intercept   : AIC=inf, Time=0.51 sec\n",
      " ARIMA(0,1,0)(1,0,0)[10] intercept   : AIC=617.433, Time=0.03 sec\n",
      " ARIMA(2,1,0)(1,0,0)[10] intercept   : AIC=618.982, Time=0.06 sec\n",
      " ARIMA(1,1,1)(1,0,0)[10] intercept   : AIC=618.886, Time=0.18 sec\n",
      " ARIMA(0,1,1)(1,0,0)[10] intercept   : AIC=615.813, Time=0.11 sec\n",
      " ARIMA(2,1,1)(1,0,0)[10] intercept   : AIC=620.668, Time=0.13 sec\n",
      " ARIMA(1,1,0)(1,0,0)[10]             : AIC=613.668, Time=0.09 sec\n",
      " ARIMA(1,1,0)(0,0,0)[10]             : AIC=617.880, Time=0.01 sec\n",
      " ARIMA(1,1,0)(2,0,0)[10]             : AIC=616.750, Time=0.06 sec\n",
      " ARIMA(1,1,0)(1,0,1)[10]             : AIC=inf, Time=0.26 sec\n",
      " ARIMA(1,1,0)(0,0,1)[10]             : AIC=615.339, Time=0.04 sec\n",
      " ARIMA(1,1,0)(2,0,1)[10]             : AIC=inf, Time=0.46 sec\n",
      " ARIMA(0,1,0)(1,0,0)[10]             : AIC=615.796, Time=0.02 sec\n",
      " ARIMA(2,1,0)(1,0,0)[10]             : AIC=616.893, Time=0.04 sec\n",
      " ARIMA(1,1,1)(1,0,0)[10]             : AIC=inf, Time=0.25 sec\n",
      " ARIMA(0,1,1)(1,0,0)[10]             : AIC=613.646, Time=0.08 sec\n",
      " ARIMA(0,1,1)(0,0,0)[10]             : AIC=617.728, Time=0.03 sec\n",
      " ARIMA(0,1,1)(2,0,0)[10]             : AIC=615.499, Time=0.19 sec\n",
      " ARIMA(0,1,1)(1,0,1)[10]             : AIC=615.179, Time=0.24 sec\n",
      " ARIMA(0,1,1)(0,0,1)[10]             : AIC=615.544, Time=0.05 sec\n",
      " ARIMA(0,1,1)(2,0,1)[10]             : AIC=inf, Time=0.36 sec\n",
      " ARIMA(0,1,2)(1,0,0)[10]             : AIC=615.595, Time=0.19 sec\n",
      " ARIMA(1,1,2)(1,0,0)[10]             : AIC=inf, Time=0.32 sec\n",
      "\n",
      "Best model:  ARIMA(0,1,1)(1,0,0)[10]          \n",
      "Total fit time: 4.602 seconds\n"
     ]
    }
   ],
   "source": [
    "arima_model =  auto_arima(train,start_p=0, d=1, start_q=0, \n",
    "                          max_p=10, max_d=5, max_q=10, start_P=0, \n",
    "                          D=0, start_Q=1, max_P=5, max_D=5,\n",
    "                          max_Q=1, m=10, seasonal=True, \n",
    "                          error_action='warn',trace = True,\n",
    "                          supress_warnings=True,stepwise = True,random_state=40,n_fits = 50 )"
   ]
  },
  {
   "cell_type": "code",
   "execution_count": 92,
   "metadata": {},
   "outputs": [
    {
     "data": {
      "text/html": [
       "<table class=\"simpletable\">\n",
       "<caption>SARIMAX Results</caption>\n",
       "<tr>\n",
       "  <th>Dep. Variable:</th>                  <td>y</td>                <th>  No. Observations:  </th>    <td>34</td>   \n",
       "</tr>\n",
       "<tr>\n",
       "  <th>Model:</th>           <td>SARIMAX(0, 1, 1)x(1, 0, [], 10)</td> <th>  Log Likelihood     </th> <td>-303.823</td>\n",
       "</tr>\n",
       "<tr>\n",
       "  <th>Date:</th>                   <td>Fri, 08 Jan 2021</td>         <th>  AIC                </th>  <td>613.646</td>\n",
       "</tr>\n",
       "<tr>\n",
       "  <th>Time:</th>                       <td>22:18:36</td>             <th>  BIC                </th>  <td>618.136</td>\n",
       "</tr>\n",
       "<tr>\n",
       "  <th>Sample:</th>                         <td>0</td>                <th>  HQIC               </th>  <td>615.157</td>\n",
       "</tr>\n",
       "<tr>\n",
       "  <th></th>                              <td> - 34</td>              <th>                     </th>     <td> </td>   \n",
       "</tr>\n",
       "<tr>\n",
       "  <th>Covariance Type:</th>               <td>opg</td>               <th>                     </th>     <td> </td>   \n",
       "</tr>\n",
       "</table>\n",
       "<table class=\"simpletable\">\n",
       "<tr>\n",
       "      <td></td>        <th>coef</th>     <th>std err</th>      <th>z</th>      <th>P>|z|</th>  <th>[0.025</th>    <th>0.975]</th>  \n",
       "</tr>\n",
       "<tr>\n",
       "  <th>ma.L1</th>    <td>   -0.3843</td> <td>    0.184</td> <td>   -2.089</td> <td> 0.037</td> <td>   -0.745</td> <td>   -0.024</td>\n",
       "</tr>\n",
       "<tr>\n",
       "  <th>ar.S.L10</th> <td>    0.4272</td> <td>    0.246</td> <td>    1.735</td> <td> 0.083</td> <td>   -0.055</td> <td>    0.910</td>\n",
       "</tr>\n",
       "<tr>\n",
       "  <th>sigma2</th>   <td> 5.497e+06</td> <td> 1.33e+06</td> <td>    4.125</td> <td> 0.000</td> <td> 2.89e+06</td> <td> 8.11e+06</td>\n",
       "</tr>\n",
       "</table>\n",
       "<table class=\"simpletable\">\n",
       "<tr>\n",
       "  <th>Ljung-Box (L1) (Q):</th>     <td>0.00</td> <th>  Jarque-Bera (JB):  </th> <td>4.50</td> \n",
       "</tr>\n",
       "<tr>\n",
       "  <th>Prob(Q):</th>                <td>0.95</td> <th>  Prob(JB):          </th> <td>0.11</td> \n",
       "</tr>\n",
       "<tr>\n",
       "  <th>Heteroskedasticity (H):</th> <td>0.37</td> <th>  Skew:              </th> <td>-0.84</td>\n",
       "</tr>\n",
       "<tr>\n",
       "  <th>Prob(H) (two-sided):</th>    <td>0.11</td> <th>  Kurtosis:          </th> <td>3.69</td> \n",
       "</tr>\n",
       "</table><br/><br/>Warnings:<br/>[1] Covariance matrix calculated using the outer product of gradients (complex-step)."
      ],
      "text/plain": [
       "<class 'statsmodels.iolib.summary.Summary'>\n",
       "\"\"\"\n",
       "                                      SARIMAX Results                                      \n",
       "===========================================================================================\n",
       "Dep. Variable:                                   y   No. Observations:                   34\n",
       "Model:             SARIMAX(0, 1, 1)x(1, 0, [], 10)   Log Likelihood                -303.823\n",
       "Date:                             Fri, 08 Jan 2021   AIC                            613.646\n",
       "Time:                                     22:18:36   BIC                            618.136\n",
       "Sample:                                          0   HQIC                           615.157\n",
       "                                              - 34                                         \n",
       "Covariance Type:                               opg                                         \n",
       "==============================================================================\n",
       "                 coef    std err          z      P>|z|      [0.025      0.975]\n",
       "------------------------------------------------------------------------------\n",
       "ma.L1         -0.3843      0.184     -2.089      0.037      -0.745      -0.024\n",
       "ar.S.L10       0.4272      0.246      1.735      0.083      -0.055       0.910\n",
       "sigma2      5.497e+06   1.33e+06      4.125      0.000    2.89e+06    8.11e+06\n",
       "===================================================================================\n",
       "Ljung-Box (L1) (Q):                   0.00   Jarque-Bera (JB):                 4.50\n",
       "Prob(Q):                              0.95   Prob(JB):                         0.11\n",
       "Heteroskedasticity (H):               0.37   Skew:                            -0.84\n",
       "Prob(H) (two-sided):                  0.11   Kurtosis:                         3.69\n",
       "===================================================================================\n",
       "\n",
       "Warnings:\n",
       "[1] Covariance matrix calculated using the outer product of gradients (complex-step).\n",
       "\"\"\""
      ]
     },
     "execution_count": 92,
     "metadata": {},
     "output_type": "execute_result"
    }
   ],
   "source": [
    "arima_model.summary()"
   ]
  },
  {
   "cell_type": "code",
   "execution_count": 93,
   "metadata": {},
   "outputs": [
    {
     "data": {
      "text/html": [
       "<div>\n",
       "<style scoped>\n",
       "    .dataframe tbody tr th:only-of-type {\n",
       "        vertical-align: middle;\n",
       "    }\n",
       "\n",
       "    .dataframe tbody tr th {\n",
       "        vertical-align: top;\n",
       "    }\n",
       "\n",
       "    .dataframe thead th {\n",
       "        text-align: right;\n",
       "    }\n",
       "</style>\n",
       "<table border=\"1\" class=\"dataframe\">\n",
       "  <thead>\n",
       "    <tr style=\"text-align: right;\">\n",
       "      <th></th>\n",
       "      <th>predicted_Rapes_Rate_for_LA</th>\n",
       "    </tr>\n",
       "    <tr>\n",
       "      <th>report_year</th>\n",
       "      <th></th>\n",
       "    </tr>\n",
       "  </thead>\n",
       "  <tbody>\n",
       "    <tr>\n",
       "      <th>2009</th>\n",
       "      <td>757.005379</td>\n",
       "    </tr>\n",
       "    <tr>\n",
       "      <th>2010</th>\n",
       "      <td>980.446665</td>\n",
       "    </tr>\n",
       "    <tr>\n",
       "      <th>2011</th>\n",
       "      <td>293.460838</td>\n",
       "    </tr>\n",
       "    <tr>\n",
       "      <th>2012</th>\n",
       "      <td>15.334114</td>\n",
       "    </tr>\n",
       "    <tr>\n",
       "      <th>2013</th>\n",
       "      <td>-743.426352</td>\n",
       "    </tr>\n",
       "    <tr>\n",
       "      <th>2014</th>\n",
       "      <td>116.160392</td>\n",
       "    </tr>\n",
       "    <tr>\n",
       "      <th>2015</th>\n",
       "      <td>517.756584</td>\n",
       "    </tr>\n",
       "  </tbody>\n",
       "</table>\n",
       "</div>"
      ],
      "text/plain": [
       "             predicted_Rapes_Rate_for_LA\n",
       "report_year                             \n",
       "2009                          757.005379\n",
       "2010                          980.446665\n",
       "2011                          293.460838\n",
       "2012                           15.334114\n",
       "2013                         -743.426352\n",
       "2014                          116.160392\n",
       "2015                          517.756584"
      ]
     },
     "execution_count": 93,
     "metadata": {},
     "output_type": "execute_result"
    }
   ],
   "source": [
    "prediction = pd.DataFrame(arima_model.predict(n_periods = 7),index=test.index)\n",
    "prediction.columns = ['predicted_Rapes_Rate_for_LA']\n",
    "prediction"
   ]
  },
  {
   "cell_type": "code",
   "execution_count": 99,
   "metadata": {},
   "outputs": [
    {
     "name": "stdout",
     "output_type": "stream",
     "text": [
      "Predicted Robberies Crime Rates of LA \n"
     ]
    },
    {
     "data": {
      "image/png": "[encoded data removed]",
      "text/plain": [
       "<Figure size 576x360 with 1 Axes>"
      ]
     },
     "metadata": {
      "needs_background": "light"
     },
     "output_type": "display_data"
    }
   ],
   "source": [
    "print(\"Predicted Robberies Crime Rates of LA \")\n",
    "plt.figure(figsize=(8,5))\n",
    "plt.plot(train,label=\"Training\")\n",
    "plt.plot(test,label=\"Test\")\n",
    "plt.plot(prediction,label=\"Predicted\")\n",
    "plt.legend()\n",
    "plt.show()"
   ]
  },
  {
   "cell_type": "code",
   "execution_count": 95,
   "metadata": {},
   "outputs": [
    {
     "data": {
      "text/plain": [
       "-1.7079067968429622"
      ]
     },
     "execution_count": 95,
     "metadata": {},
     "output_type": "execute_result"
    }
   ],
   "source": [
    "from sklearn.metrics import r2_score\n",
    "r2_score(test, prediction)\n"
   ]
  },
  {
   "cell_type": "code",
   "execution_count": null,
   "metadata": {},
   "outputs": [],
   "source": []
  }
 ],
 "metadata": {
  "kernelspec": {
   "display_name": "Python 3",
   "language": "python",
   "name": "python3"
  },
  "language_info": {
   "codemirror_mode": {
    "name": "ipython",
    "version": 3
   },
   "file_extension": ".py",
   "mimetype": "text/x-python",
   "name": "python",
   "nbconvert_exporter": "python",
   "pygments_lexer": "ipython3",
   "version": "3.8.5"
  }
 },
 "nbformat": 4,
 "nbformat_minor": 4
}
